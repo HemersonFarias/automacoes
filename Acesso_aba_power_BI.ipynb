import time
import re
from selenium import webdriver
from selenium.webdriver.common.by import By
from selenium.webdriver.common.keys import Keys
from selenium.webdriver.chrome.service import Service
from selenium.webdriver.chrome.options import Options
from selenium.webdriver.support.ui import WebDriverWait
from selenium.webdriver.support import expected_conditions as EC

import pandas as pd
from IPython.display import display
from openpyxl import load_workbook
from openpyxl.utils import get_column_letter
from IPython.display import HTML
from IPython.display import FileLink

# Configurações do navegador
chrome_options = Options()
chrome_options.add_argument("--start-maximized")

# Inicializa o ChromeDriver
service = Service()
driver = webdriver.Chrome(service=service, options=chrome_options)

# Link fixo do Power BI
url = "https://app.powerbi.com/groups/6146eb59-d029-4e7d-8a57-f5c48c72a3fe/reports/adf5f916-5dc7-41d8-9826-00c5a4a35912/ReportSection03079d4630b56f67c235?experience=power-bi"

# Lista para armazenar os resultados
resultado_final = []

try:
    driver.get(url)

    # Login
    email_input = WebDriverWait(driver, 10).until(
        EC.element_to_be_clickable((By.ID, "email"))
    )
    email_input.send_keys(USERNAME)
    email_input.send_keys(Keys.RETURN)

    password_input = WebDriverWait(driver, 10).until(
        EC.element_to_be_clickable((By.ID, "i0118"))
    )
    password_input.send_keys(PASSWORD)

    next_button = WebDriverWait(driver, 10).until(
        EC.element_to_be_clickable((By.ID, "idSIButton9"))
    )
    next_button.click()

    time.sleep(1)
    webdriver.ActionChains(driver).send_keys(Keys.RETURN).perform()

    # Espera e clica em "Arquivo"
    WebDriverWait(driver, 20).until(
        lambda d: d.execute_script("""
            return document.querySelector('button[data-testid="appbar-file-menu-btn"][localizetooltip="File"].mat-menu-trigger');
        """)
    )
    time.sleep(1)
    driver.execute_script("""
        document.querySelector('button[data-testid="appbar-file-menu-btn"][localizetooltip="File"].mat-menu-trigger').click();
    """)

    # Espera e clica em "Inserir relatório"
    WebDriverWait(driver, 1).until(
        lambda d: d.execute_script("""
            return document.querySelector('button[data-testid="appbar-embed-report-btn"]');
        """)
    )
    driver.execute_script("""
        document.querySelector('button[data-testid="appbar-embed-report-btn"]').click();
    """)

    # Espera e clica em "Site ou portal"
    WebDriverWait(driver, 10).until(
        lambda d: d.execute_script("""
            return document.querySelector('button[data-testid="appbar-embed-report-website-or-portal-btn"]');
        """)
    )
    time.sleep(1)
    driver.execute_script("""
        document.querySelector('button[data-testid="appbar-embed-report-website-or-portal-btn"]').click();
    """)

    # Aguarda 1 segundo e captura o valor do campo embed
    time.sleep(1)
    embed_link = driver.execute_script("""
        const input = document.getElementById("secureEmbedLinkInput");
        return input ? input.value : null;
    """)

    if not embed_link:
        print("⚠️ Campo de embed não encontrado ou vazio.")
        driver.quit()
        exit()

    # Fecha o modal de incorporação
    time.sleep(1)
    driver.execute_script("""
        const closeBtn = document.querySelector('button[data-testid="close-btn"][localize="Embed_Close"]');
        if (closeBtn) {
            closeBtn.click();
        } else {
            throw new Error("Botão 'Fechar' não encontrado.");
        }
    """)

    # Aguarde até que as abas estejam carregadas
    WebDriverWait(driver, 20).until(
        EC.presence_of_all_elements_located((By.CSS_SELECTOR, "span.itemName"))
    )

    # Localizar todos os elementos das abas
    abas = driver.find_elements(By.CSS_SELECTOR, "span.itemName")

    # Estrutura para armazenar os resultados
    abas_ids = []

    for aba in abas:
        nome_aba = aba.text.strip()

        # Clicar na aba usando JavaScript para evitar problemas de sobreposição
        driver.execute_script("arguments[0].click();", aba)

        # Aguardar o carregamento da página
        time.sleep(2)  # Ajuste o tempo conforme necessário

        # Capturar o URL atual
        url_atual = driver.current_url

        # Extrair o ID da seção do URL
        match = re.search(r"/reports/[^/]+/([^/?]+)", url_atual)
        if match:
            id_secao = match.group(1)
            abas_ids.append({"nome_aba": nome_aba, "id_secao": id_secao})
        else:
            abas_ids.append({"nome_aba": nome_aba, "id_secao": None})

    # Adicionar as informações à lista de resultados
    print("📄 IDs das seções por aba:")
    for item in abas_ids:
        id_secao = item.get('id_secao', 'ID não encontrado')  # garante que não dê erro caso 'idsecao' não exista
        nome_aba = item.get('nome_aba', 'Nome não encontrado')
        embed_url = f"{embed_link}&pageName={id_secao}"
        print(f" - Aba: {nome_aba} | ID da Seção: {embed_url}")
        resultado_final.append({
            "Aba": nome_aba,
            "Embed URL": embed_url
        })

except Exception as e:
    print(f"Ocorreu um erro: {e}")

# Converter para DataFrame
df_resultado = pd.DataFrame(resultado_final)

# Exportar para planilha Excel
nome_arquivo = "resultado_abas.xlsx"
df_resultado.to_excel(nome_arquivo, index=False)

# Ajustar largura das colunas usando openpyxl
wb = load_workbook(nome_arquivo)
ws = wb.active

for column_cells in ws.columns:
    max_length = 0
    column = column_cells[0].column  # Número da coluna
    for cell in column_cells:
        try:
            if cell.value:
                max_length = max(max_length, len(str(cell.value)))
        except:
            pass
    adjusted_width = max_length + 2
    ws.column_dimensions[get_column_letter(column)].width = adjusted_width

# Salvar planilha com ajuste
wb.save(nome_arquivo)

# Ajuste visual de largura para HTML (Jupyter)
html = df_resultado.to_html(escape=False)  # escape=False permite mostrar hyperlinks
style = """
<style>
table {
    width: 100% !important;
    table-layout: auto !important;
    word-wrap: break-word;
}
th, td {
    white-space: normal !important;
}
</style>
"""
display(HTML(style + html))

# Gerar link para download
file_link = FileLink(nome_arquivo)
file_link

# Fechar o navegador
driver.quit()
